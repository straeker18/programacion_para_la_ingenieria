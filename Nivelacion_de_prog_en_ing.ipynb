{
  "nbformat": 4,
  "nbformat_minor": 0,
  "metadata": {
    "colab": {
      "provenance": [],
      "toc_visible": true,
      "authorship_tag": "ABX9TyNeVMw8xZ3h168NjjUL5uYM",
      "include_colab_link": true
    },
    "kernelspec": {
      "name": "python3",
      "display_name": "Python 3"
    },
    "language_info": {
      "name": "python"
    }
  },
  "cells": [
    {
      "cell_type": "markdown",
      "metadata": {
        "id": "view-in-github",
        "colab_type": "text"
      },
      "source": [
        "<a href=\"https://colab.research.google.com/github/straeker18/programacion_para_la_ingenieria/blob/main/Nivelacion_de_prog_en_ing.ipynb\" target=\"_parent\"><img src=\"https://colab.research.google.com/assets/colab-badge.svg\" alt=\"Open In Colab\"/></a>"
      ]
    },
    {
      "cell_type": "markdown",
      "source": [
        "#Inicio\n",
        "Este es el test *hola* **uso de las distintas proporciones**\n"
      ],
      "metadata": {
        "id": "_1kutUQt89tS"
      }
    },
    {
      "cell_type": "markdown",
      "source": [
        "#code\n",
        "\n"
      ],
      "metadata": {
        "id": "BcAcwhRK9ojp"
      }
    },
    {
      "cell_type": "code",
      "execution_count": 4,
      "metadata": {
        "colab": {
          "base_uri": "https://localhost:8080/"
        },
        "id": "Os15xePz67-2",
        "outputId": "9b0faf83-6bbd-4f22-d53f-7f0f17d08024"
      },
      "outputs": [
        {
          "output_type": "stream",
          "name": "stdout",
          "text": [
            "hello world desde la nube jijj\n"
          ]
        }
      ],
      "source": [
        "print(\"hello world desde la nube jijj\")"
      ]
    },
    {
      "cell_type": "markdown",
      "source": [
        "#Lista ejemplo"
      ],
      "metadata": {
        "id": "SenSFfV4A9Nw"
      }
    },
    {
      "cell_type": "markdown",
      "source": [
        "1. bluey\n",
        "2. the owl house\n",
        "3. amphibian\n",
        "\n",
        "\n",
        "---\n",
        "\n",
        "\n"
      ],
      "metadata": {
        "id": "F_agaD_2-2WS"
      }
    }
  ]
}